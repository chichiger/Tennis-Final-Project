{
 "cells": [
  {
   "cell_type": "code",
   "execution_count": 1,
   "metadata": {
    "collapsed": true
   },
   "outputs": [],
   "source": [
    "import numpy as np\n",
    "import pandas as pd"
   ]
  },
  {
   "cell_type": "code",
   "execution_count": 17,
   "metadata": {},
   "outputs": [
    {
     "data": {
      "text/html": [
       "<div>\n",
       "<style>\n",
       "    .dataframe thead tr:only-child th {\n",
       "        text-align: right;\n",
       "    }\n",
       "\n",
       "    .dataframe thead th {\n",
       "        text-align: left;\n",
       "    }\n",
       "\n",
       "    .dataframe tbody tr th {\n",
       "        vertical-align: top;\n",
       "    }\n",
       "</style>\n",
       "<table border=\"1\" class=\"dataframe\">\n",
       "  <thead>\n",
       "    <tr style=\"text-align: right;\">\n",
       "      <th></th>\n",
       "      <th>Unnamed: 0</th>\n",
       "      <th>Name</th>\n",
       "      <th>Age</th>\n",
       "      <th>Birthday</th>\n",
       "      <th>Height</th>\n",
       "      <th>Weight</th>\n",
       "      <th>Rank</th>\n",
       "      <th>Country Represent</th>\n",
       "      <th>Year Turned Pro</th>\n",
       "      <th>Wins</th>\n",
       "      <th>Losses</th>\n",
       "      <th>Handed</th>\n",
       "      <th>Backhand Style</th>\n",
       "      <th>Number of Coaches</th>\n",
       "    </tr>\n",
       "  </thead>\n",
       "  <tbody>\n",
       "    <tr>\n",
       "      <th>0</th>\n",
       "      <td>3</td>\n",
       "      <td>Milos Raonic</td>\n",
       "      <td>26</td>\n",
       "      <td>1990.12.27</td>\n",
       "      <td>196</td>\n",
       "      <td>216.0</td>\n",
       "      <td>24</td>\n",
       "      <td>Podgorica, Montenegro</td>\n",
       "      <td>2008.0</td>\n",
       "      <td>288</td>\n",
       "      <td>132</td>\n",
       "      <td>Right-Handed</td>\n",
       "      <td>Two-Handed Backhand</td>\n",
       "      <td>0</td>\n",
       "    </tr>\n",
       "    <tr>\n",
       "      <th>1</th>\n",
       "      <td>5</td>\n",
       "      <td>Stan Wawrinka</td>\n",
       "      <td>32</td>\n",
       "      <td>1985.03.28</td>\n",
       "      <td>183</td>\n",
       "      <td>179.0</td>\n",
       "      <td>9</td>\n",
       "      <td>Lausanne, Switzerland</td>\n",
       "      <td>2002.0</td>\n",
       "      <td>465</td>\n",
       "      <td>262</td>\n",
       "      <td>Right-Handed</td>\n",
       "      <td>One-Handed Backhand</td>\n",
       "      <td>0</td>\n",
       "    </tr>\n",
       "    <tr>\n",
       "      <th>2</th>\n",
       "      <td>7</td>\n",
       "      <td>Rafael Nadal</td>\n",
       "      <td>31</td>\n",
       "      <td>1986.06.03</td>\n",
       "      <td>185</td>\n",
       "      <td>188.0</td>\n",
       "      <td>1</td>\n",
       "      <td>Manacor, Mallorca, Spain</td>\n",
       "      <td>2001.0</td>\n",
       "      <td>873</td>\n",
       "      <td>185</td>\n",
       "      <td>Left-Handed</td>\n",
       "      <td>Two-Handed Backhand</td>\n",
       "      <td>2</td>\n",
       "    </tr>\n",
       "    <tr>\n",
       "      <th>3</th>\n",
       "      <td>9</td>\n",
       "      <td>Kyle Edmund</td>\n",
       "      <td>22</td>\n",
       "      <td>1995.01.08</td>\n",
       "      <td>188</td>\n",
       "      <td>184.0</td>\n",
       "      <td>50</td>\n",
       "      <td>Johannesburg, South Africa</td>\n",
       "      <td>2012.0</td>\n",
       "      <td>53</td>\n",
       "      <td>63</td>\n",
       "      <td>Right-Handed</td>\n",
       "      <td>Two-Handed Backhand</td>\n",
       "      <td>1</td>\n",
       "    </tr>\n",
       "    <tr>\n",
       "      <th>4</th>\n",
       "      <td>11</td>\n",
       "      <td>Jordan Thompson</td>\n",
       "      <td>23</td>\n",
       "      <td>1994.04.20</td>\n",
       "      <td>183</td>\n",
       "      <td>161.0</td>\n",
       "      <td>94</td>\n",
       "      <td>Sydney, Australia</td>\n",
       "      <td>2013.0</td>\n",
       "      <td>16</td>\n",
       "      <td>29</td>\n",
       "      <td>Right-Handed</td>\n",
       "      <td>Two-Handed Backhand</td>\n",
       "      <td>1</td>\n",
       "    </tr>\n",
       "  </tbody>\n",
       "</table>\n",
       "</div>"
      ],
      "text/plain": [
       "   Unnamed: 0             Name  Age    Birthday  Height  Weight  Rank  \\\n",
       "0           3     Milos Raonic   26  1990.12.27     196   216.0    24   \n",
       "1           5    Stan Wawrinka   32  1985.03.28     183   179.0     9   \n",
       "2           7     Rafael Nadal   31  1986.06.03     185   188.0     1   \n",
       "3           9      Kyle Edmund   22  1995.01.08     188   184.0    50   \n",
       "4          11  Jordan Thompson   23  1994.04.20     183   161.0    94   \n",
       "\n",
       "            Country Represent  Year Turned Pro  Wins  Losses        Handed  \\\n",
       "0       Podgorica, Montenegro           2008.0   288     132  Right-Handed   \n",
       "1       Lausanne, Switzerland           2002.0   465     262  Right-Handed   \n",
       "2    Manacor, Mallorca, Spain           2001.0   873     185   Left-Handed   \n",
       "3  Johannesburg, South Africa           2012.0    53      63  Right-Handed   \n",
       "4           Sydney, Australia           2013.0    16      29  Right-Handed   \n",
       "\n",
       "        Backhand Style  Number of Coaches  \n",
       "0  Two-Handed Backhand                  0  \n",
       "1  One-Handed Backhand                  0  \n",
       "2  Two-Handed Backhand                  2  \n",
       "3  Two-Handed Backhand                  1  \n",
       "4  Two-Handed Backhand                  1  "
      ]
     },
     "execution_count": 17,
     "metadata": {},
     "output_type": "execute_result"
    }
   ],
   "source": [
    "df = pd.read_csv('Final_Player_Data.csv')\n",
    "df.head()"
   ]
  },
  {
   "cell_type": "code",
   "execution_count": 79,
   "metadata": {},
   "outputs": [],
   "source": [
    "tmp = df['Handed'].copy()\n",
    "for i,n in enumerate(df['Handed']):\n",
    "    if n == 'Right-Handed':\n",
    "        tmp[i] = 0\n",
    "    else:\n",
    "        tmp[i] = 1\n",
    "\n",
    "logmatrix = tmp.as_matrix()\n",
    "\n",
    "tmp = df['Backhand Style'].copy()\n",
    "for i,n in enumerate(df['Backhand Style']):\n",
    "    if n == 'Two-Handed Backhand':\n",
    "        tmp[i] = 0\n",
    "    else:\n",
    "        tmp[i] = 1\n",
    "        \n",
    "logmatrix = np.vstack((logmatrix,tmp))\n",
    "logmatrix = np.vstack((logmatrix,df['Number of Coaches']))\n",
    "logmatrix = np.vstack((logmatrix,df['Year Turned Pro']))\n",
    "logmatrix = np.vstack((logmatrix,df['Wins']))\n",
    "logmatrix = np.vstack((logmatrix,df['Losses']))\n",
    "logmatrix = np.vstack((logmatrix,df['Weight']))\n",
    "logmatrix = np.vstack((logmatrix,df['Height']))\n",
    "logmatrix = np.vstack((logmatrix,df['Age'])).T\n",
    "\n",
    "tmp = pd.DataFrame(logmatrix)\n",
    "tmp =tmp.fillna(0)\n",
    "logmatrix = tmp.as_matrix()\n",
    "\n",
    "rankmatrix = df['Rank'].copy()\n",
    "for i,n in enumerate(df['Rank']):\n",
    "    if n < 15:\n",
    "        rankmatrix[i] = 1\n",
    "    elif 14 < n < 30:\n",
    "        rankmatrix[i] = 1\n",
    "    elif 29 < n < 45:\n",
    "        rankmatrix[i] = 1\n",
    "    elif 44 < n < 60:\n",
    "        rankmatrix[i] = 4\n",
    "    elif 59 < n < 100:\n",
    "        rankmatrix[i] = 4\n",
    "    else:\n",
    "        rankmatrix[i] = 4\n"
   ]
  },
  {
   "cell_type": "code",
   "execution_count": 80,
   "metadata": {},
   "outputs": [
    {
     "name": "stdout",
     "output_type": "stream",
     "text": [
      "0.858800773694\n",
      "[ 0.80769231  0.86538462  0.80769231  0.84615385  0.78846154  0.86538462\n",
      "  0.86538462  0.92307692  0.94117647  0.88      ]\n"
     ]
    }
   ],
   "source": [
    "from sklearn.linear_model import LogisticRegression\n",
    "from sklearn import metrics\n",
    "from sklearn.model_selection import cross_val_score\n",
    "from sklearn.model_selection import cross_val_predict\n",
    "    \n",
    "model = LogisticRegression()\n",
    "scores = cross_val_score(model,logmatrix,rankmatrix, cv=10)\n",
    "predicted = cross_val_predict(model, logmatrix, rankmatrix, cv=10)\n",
    "print(metrics.accuracy_score(rankmatrix, predicted))\n",
    "print(scores)"
   ]
  },
  {
   "cell_type": "code",
   "execution_count": 81,
   "metadata": {},
   "outputs": [
    {
     "name": "stdout",
     "output_type": "stream",
     "text": [
      "0.675048355899\n",
      "[ 0.67307692  0.67307692  0.67307692  0.63461538  0.69230769  0.67307692\n",
      "  0.71153846  0.67307692  0.68627451  0.66      ]\n"
     ]
    }
   ],
   "source": [
    "scores = cross_val_score(model,logmatrix[:,0:2],rankmatrix, cv=10)\n",
    "predicted = cross_val_predict(model, logmatrix[:,0:2], rankmatrix, cv=10)\n",
    "print(metrics.accuracy_score(rankmatrix, predicted))\n",
    "print(scores)"
   ]
  },
  {
   "cell_type": "code",
   "execution_count": 82,
   "metadata": {},
   "outputs": [
    {
     "name": "stdout",
     "output_type": "stream",
     "text": [
      "0.816247582205\n",
      "[ 0.82692308  0.84615385  0.78846154  0.88461538  0.76923077  0.84615385\n",
      "  0.75        0.80769231  0.8627451   0.78      ]\n"
     ]
    }
   ],
   "source": [
    "scores = cross_val_score(model,logmatrix[:,3:8],rankmatrix, cv=10)\n",
    "predicted = cross_val_predict(model, logmatrix[:,3:8], rankmatrix, cv=10)\n",
    "print(metrics.accuracy_score(rankmatrix, predicted))\n",
    "print(scores)"
   ]
  },
  {
   "cell_type": "code",
   "execution_count": 83,
   "metadata": {
    "collapsed": true
   },
   "outputs": [],
   "source": [
    "xd = np.random.rand(517,2)"
   ]
  },
  {
   "cell_type": "code",
   "execution_count": 84,
   "metadata": {},
   "outputs": [
    {
     "name": "stdout",
     "output_type": "stream",
     "text": [
      "0.675048355899\n",
      "[ 0.67307692  0.67307692  0.67307692  0.67307692  0.67307692  0.67307692\n",
      "  0.67307692  0.67307692  0.68627451  0.68      ]\n"
     ]
    }
   ],
   "source": [
    "scores = cross_val_score(model,xd,rankmatrix, cv=10)\n",
    "predicted = cross_val_predict(model, xd, rankmatrix, cv=10)\n",
    "print(metrics.accuracy_score(rankmatrix, predicted))\n",
    "print(scores)"
   ]
  },
  {
   "cell_type": "code",
   "execution_count": 104,
   "metadata": {
    "scrolled": true
   },
   "outputs": [
    {
     "name": "stderr",
     "output_type": "stream",
     "text": [
      "D:\\Users\\kev21\\Anaconda3\\lib\\site-packages\\sklearn\\model_selection\\_split.py:581: Warning: The least populated class in y has only 7 members, which is too few. The minimum number of groups for any class cannot be less than n_splits=10.\n",
      "  % (min_groups, self.n_splits)), Warning)\n",
      "D:\\Users\\kev21\\Anaconda3\\lib\\site-packages\\sklearn\\model_selection\\_split.py:581: Warning: The least populated class in y has only 7 members, which is too few. The minimum number of groups for any class cannot be less than n_splits=10.\n",
      "  % (min_groups, self.n_splits)), Warning)\n"
     ]
    },
    {
     "data": {
      "text/plain": [
       "<matplotlib.text.Text at 0x1561ca06dd8>"
      ]
     },
     "execution_count": 104,
     "metadata": {},
     "output_type": "execute_result"
    },
    {
     "data": {
      "image/png": "[encoded data removed]",
      "text/plain": [
       "<matplotlib.figure.Figure at 0x1561ca06eb8>"
      ]
     },
     "metadata": {},
     "output_type": "display_data"
    }
   ],
   "source": [
    "import matplotlib.pyplot as plt\n",
    "%matplotlib inline\n",
    "plotpred = np.zeros(151)\n",
    "for threshold in range(2,150):\n",
    "    for i,n in enumerate(df['Rank']):\n",
    "        if n < threshold:\n",
    "            rankmatrix[i] = 1\n",
    "        else:\n",
    "            rankmatrix[i] = 4\n",
    "    predicted = cross_val_predict(model, xd, rankmatrix, cv=10)\n",
    "    plotpred[threshold] = metrics.accuracy_score(rankmatrix, predicted)\n",
    "plt.plot(range(2,len(plotpred)),plotpred[2:])\n",
    "plt.xlabel('Threshold=n binary class')\n"
   ]
  },
  {
   "cell_type": "code",
   "execution_count": 103,
   "metadata": {},
   "outputs": [
    {
     "data": {
      "text/plain": [
       "array([ 0.        ,  0.        ,  0.98646035,  0.98646035,  0.97678917,\n",
       "        0.97485493,  0.93617021,  0.92649903,  0.9245648 ,  0.92263056,\n",
       "        0.91489362,  0.91295938,  0.91295938,  0.91102515,  0.89555126,\n",
       "        0.89555126,  0.89168279,  0.88974855,  0.88781431,  0.87814313,\n",
       "        0.87234043,  0.86847195,  0.86847195,  0.82011605,  0.81624758,\n",
       "        0.8065764 ,  0.79497099,  0.78723404,  0.78723404,  0.78529981,\n",
       "        0.78143133,  0.7794971 ,  0.77369439,  0.76402321,  0.74661509,\n",
       "        0.74468085,  0.74081238,  0.73887814,  0.71953578,  0.7040619 ,\n",
       "        0.70019342,  0.70019342,  0.69439072,  0.69052224,  0.68665377,\n",
       "        0.67504836,  0.67311412,  0.67117988,  0.63249516,  0.63056093,\n",
       "        0.62862669,  0.62088975,  0.62088975,  0.62088975,  0.62088975,\n",
       "        0.61121857,  0.60154739,  0.60154739,  0.59767892,  0.59574468,\n",
       "        0.59187621,  0.59187621,  0.59187621,  0.5860735 ,  0.58413926,\n",
       "        0.58413926,  0.57640232,  0.57640232,  0.56286267,  0.56286267,\n",
       "        0.55705996,  0.56092843,  0.5589942 ,  0.5589942 ,  0.54932302,\n",
       "        0.54545455,  0.54158607,  0.54158607,  0.53384913,  0.52417795,\n",
       "        0.51837524,  0.52224371,  0.53965184,  0.53965184,  0.53965184,\n",
       "        0.55512573,  0.55512573,  0.55512573,  0.56479691,  0.56479691,\n",
       "        0.57640232,  0.58027079,  0.58027079,  0.58220503,  0.58220503,\n",
       "        0.58994197,  0.58994197,  0.58994197,  0.58994197,  0.59187621,\n",
       "        0.59187621,  0.59187621,  0.59187621,  0.59187621,  0.59574468,\n",
       "        0.60928433,  0.60928433,  0.60928433,  0.60928433,  0.60928433,\n",
       "        0.60928433,  0.60928433,  0.64603482,  0.64603482,  0.64796905,\n",
       "        0.64796905,  0.65183752,  0.655706  ,  0.655706  ,  0.655706  ,\n",
       "        0.655706  ,  0.66924565,  0.66924565,  0.66924565,  0.67311412,\n",
       "        0.67698259,  0.68085106,  0.68085106,  0.68085106,  0.68085106,\n",
       "        0.68085106,  0.69052224,  0.69052224,  0.69052224,  0.69052224,\n",
       "        0.69825919,  0.69825919,  0.69825919,  0.70019342,  0.70019342,\n",
       "        0.70019342,  0.70019342,  0.70212766,  0.72147002,  0.72727273,\n",
       "        0.73887814,  0.73887814,  0.73887814,  0.73887814,  0.73887814,  0.        ])"
      ]
     },
     "execution_count": 103,
     "metadata": {},
     "output_type": "execute_result"
    }
   ],
   "source": [
    "plotpred"
   ]
  },
  {
   "cell_type": "code",
   "execution_count": 90,
   "metadata": {},
   "outputs": [
    {
     "data": {
      "text/plain": [
       "(150,)"
      ]
     },
     "execution_count": 90,
     "metadata": {},
     "output_type": "execute_result"
    }
   ],
   "source": [
    "heatmapdata = pd.DataFrame(logmatrix)\n",
    "heatmapdata.corr"
   ]
  },
  {
   "cell_type": "code",
   "execution_count": 92,
   "metadata": {},
   "outputs": [
    {
     "data": {
      "text/plain": [
       "149"
      ]
     },
     "execution_count": 92,
     "metadata": {},
     "output_type": "execute_result"
    }
   ],
   "source": [
    "len(range(1,150))"
   ]
  },
  {
   "cell_type": "code",
   "execution_count": null,
   "metadata": {
    "collapsed": true
   },
   "outputs": [],
   "source": []
  }
 ],
 "metadata": {
  "kernelspec": {
   "display_name": "Python 3",
   "language": "python",
   "name": "python3"
  },
  "language_info": {
   "codemirror_mode": {
    "name": "ipython",
    "version": 3
   },
   "file_extension": ".py",
   "mimetype": "text/x-python",
   "name": "python",
   "nbconvert_exporter": "python",
   "pygments_lexer": "ipython3",
   "version": "3.6.1"
  }
 },
 "nbformat": 4,
 "nbformat_minor": 2
}
